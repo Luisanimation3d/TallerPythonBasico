{
 "cells": [
  {
   "cell_type": "markdown",
   "metadata": {},
   "source": [
    "# Taller Python"
   ]
  },
  {
   "cell_type": "markdown",
   "metadata": {},
   "source": [
    "1. En una tienda de comestibles, se necesita una lista de productos para \n",
    "realizar un inventario. Crea una lista de productos que incluya nombre, \n",
    "precio y cantidad.\n",
    "\n",
    "- Crea una lista vacía para almacenar los productos.\n",
    "- Pide al usuario que ingrese el nombre, precio y cantidad de cada producto.\n",
    "- Agrega cada producto a la lista de productos.\n",
    "- Imprime la lista de productos."
   ]
  },
  {
   "cell_type": "code",
   "execution_count": 10,
   "metadata": {},
   "outputs": [
    {
     "name": "stdout",
     "output_type": "stream",
     "text": [
      "Bienvenido a la tienda\n",
      "1. Agregar producto\n",
      "2. Ver productos\n",
      "3. Salir\n",
      "Desde cuando el precio de alguno es un número? has retrocedido en el tiempo?\n",
      "Desde cuando el precio de si es un número? has retrocedido en el tiempo?\n",
      "Bienvenido a la tienda\n",
      "1. Agregar producto\n",
      "2. Ver productos\n",
      "3. Salir\n",
      "Nombre\tPrecio\tCantidad\n",
      "kiwi\t2\t3\n",
      "Bienvenido a la tienda\n",
      "1. Agregar producto\n",
      "2. Ver productos\n",
      "3. Salir\n"
     ]
    }
   ],
   "source": [
    "productos = {}\n",
    "\n",
    "def validarNumero(numero):\n",
    "    try:\n",
    "        int(numero)\n",
    "        return True\n",
    "    except ValueError:\n",
    "        return False\n",
    "\n",
    "def claveProducto(producto):\n",
    "    if(len(producto) == 0):\n",
    "        return 0\n",
    "    else:\n",
    "        return list(productos.keys())[-1] + 1\n",
    "\n",
    "while(True):\n",
    "    print('Bienvenido a la tienda')\n",
    "    print('1. Agregar producto')\n",
    "    print('2. Ver productos')\n",
    "    print('3. Salir')\n",
    "    opcion = input('Ingrese una opción: ')\n",
    "    if opcion == '1':\n",
    "        nombre = input('Ingrese el nombre del producto: ')\n",
    "        precio = input('Ingrese el precio del producto: ')\n",
    "        while not validarNumero(precio):\n",
    "            print(f'Desde cuando \"{precio}\" es un número? has retrocedido en el tiempo?')\n",
    "            precio = input('Ingrese el precio del producto: ')\n",
    "        cantidad = input('Ingrese la cantidad del producto: ')\n",
    "        while not validarNumero(cantidad):\n",
    "            print('La cantidad debe ser un número')\n",
    "            cantidad = input('Ingrese la cantidad del producto: ')\n",
    "        productos[claveProducto(productos)] = {\n",
    "            \"nombre\": nombre,\n",
    "            \"precio\": precio,\n",
    "            \"cantidad\": cantidad\n",
    "        }\n",
    "    elif opcion == '2':\n",
    "        print('Nombre\\tPrecio\\tCantidad')\n",
    "        for producto in productos:\n",
    "            print(f'{productos[producto][\"nombre\"]}\\t{productos[producto][\"precio\"]}\\t{productos[producto][\"cantidad\"]}')\n",
    "    elif opcion == '3':\n",
    "        break\n",
    "    else:\n",
    "        print('Opción no válida')\n",
    "    "
   ]
  }
 ],
 "metadata": {
  "kernelspec": {
   "display_name": "Python 3",
   "language": "python",
   "name": "python3"
  },
  "language_info": {
   "codemirror_mode": {
    "name": "ipython",
    "version": 3
   },
   "file_extension": ".py",
   "mimetype": "text/x-python",
   "name": "python",
   "nbconvert_exporter": "python",
   "pygments_lexer": "ipython3",
   "version": "3.11.1"
  }
 },
 "nbformat": 4,
 "nbformat_minor": 2
}
